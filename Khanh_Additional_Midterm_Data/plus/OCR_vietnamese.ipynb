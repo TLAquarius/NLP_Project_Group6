{
 "cells": [
  {
   "cell_type": "code",
   "execution_count": 1,
   "metadata": {},
   "outputs": [],
   "source": [
    "from google.cloud import vision\n",
    "import os\n",
    "import json\n",
    "import re"
   ]
  },
  {
   "cell_type": "code",
   "execution_count": 2,
   "metadata": {},
   "outputs": [],
   "source": [
    "\n",
    "\n",
    "\n",
    "def setup_google_credentials(json_path):\n",
    "    \"\"\"\n",
    "    Set up the environment variable for Google Cloud authentication.\n",
    "\n",
    "    Args:\n",
    "        json_path (str): Path to the service account JSON key file.\n",
    "    \"\"\"\n",
    "    os.environ[\"GOOGLE_APPLICATION_CREDENTIALS\"] = json_path\n",
    "\n",
    "\n",
    "def ocr_image(image_path):\n",
    "    \"\"\"\n",
    "    Perform OCR on an image using Google Cloud Vision API.\n",
    "\n",
    "    Args:\n",
    "        image_path (str): Path to the image file.\n",
    "\n",
    "    Returns:\n",
    "        str: Extracted text from the image.\n",
    "    \"\"\"\n",
    "    # Initialize the Vision client\n",
    "    client = vision.ImageAnnotatorClient()\n",
    "\n",
    "    # Load the image\n",
    "    with open(image_path, 'rb') as image_file:\n",
    "        content = image_file.read()\n",
    "    image = vision.Image(content=content)\n",
    "\n",
    "    # Perform text detection\n",
    "    response = client.text_detection(image=image)\n",
    "\n",
    "    # Check for errors\n",
    "    if response.error.message:\n",
    "        raise Exception(f\"Vision API Error: {response.error.message}\")\n",
    "\n",
    "    # Extract text\n",
    "    text = response.text_annotations[0].description if response.text_annotations else \"No text found.\"\n",
    "    return text"
   ]
  },
  {
   "cell_type": "code",
   "execution_count": 3,
   "metadata": {},
   "outputs": [],
   "source": [
    "setup_google_credentials(\"glowing-cooler-441113-m8-98ea36811795.json\")"
   ]
  },
  {
   "cell_type": "code",
   "execution_count": 6,
   "metadata": {},
   "outputs": [],
   "source": [
    "import os\n",
    "import json\n",
    "\n",
    "def GetVietnameseText(input_folder_path, output_folder_path, filename, startindex, endindex, output_name):\n",
    "    if not os.path.exists(output_folder_path):\n",
    "        os.makedirs(output_folder_path)\n",
    "    \n",
    "    data_result = {}\n",
    "    for i in range(startindex, endindex + 1):\n",
    "        filepath = os.path.join(input_folder_path, f\"{filename}{i}.png\")\n",
    "        if os.path.exists(filepath):\n",
    "            text_result = ocr_image(filepath)\n",
    "            \n",
    "            data_result[f\"{filename}{i}\"] = text_result\n",
    "        else:\n",
    "            print(f\"File không tồn tại: {filepath}\")\n",
    "    \n",
    "    annotations_path = os.path.join(output_folder_path, output_name)\n",
    "    if os.path.exists(annotations_path):\n",
    "        with open(annotations_path, \"r\", encoding=\"utf-8\") as f:\n",
    "            existing_data = json.load(f)\n",
    "    else:\n",
    "        existing_data = {}\n",
    "    \n",
    "    existing_data.update(data_result)\n",
    "\n",
    "    with open(annotations_path, \"w\", encoding=\"utf-8\") as f:\n",
    "        json.dump(existing_data, f, ensure_ascii=False, indent=4)\n",
    "\n",
    "    print(\"Dữ liệu đã được lưu thành công!\")\n"
   ]
  },
  {
   "cell_type": "markdown",
   "metadata": {},
   "source": [
    "# **OCR image**"
   ]
  },
  {
   "cell_type": "code",
   "execution_count": 7,
   "metadata": {},
   "outputs": [
    {
     "name": "stdout",
     "output_type": "stream",
     "text": [
      "Dữ liệu đã được lưu thành công!\n"
     ]
    }
   ],
   "source": [
    "GetVietnameseText(r\"D:\\NLP_Project\\data_prepare\\NLP_Project_Group6\\output\\Khanh_QN_pages_2\",\n",
    "                  r\"D:\\NLP_Project\\data_prepare\\NLP_Project_Group6\\output\\vietnamese_label\",\n",
    "                  r\"Khanh_TNYL_P2_QN_page_\", 1, 22, \"annotations_P2.json\")"
   ]
  },
  {
   "cell_type": "code",
   "execution_count": 10,
   "metadata": {},
   "outputs": [
    {
     "name": "stdout",
     "output_type": "stream",
     "text": [
      "Dữ liệu đã được lưu thành công!\n"
     ]
    }
   ],
   "source": [
    "GetVietnameseText(r\"D:\\NLP_Project\\data_prepare\\NLP_Project_Group6\\output\\Khanh_QN_pages\",\n",
    "                  r\"D:\\NLP_Project\\data_prepare\\NLP_Project_Group6\\output\\vietnamese_label\",\n",
    "                  r\"Khanh_TNYL_P1_QN_page_\", 1, 25, \"annotations_2.json\")"
   ]
  },
  {
   "cell_type": "markdown",
   "metadata": {},
   "source": [
    "# **Clean Data**"
   ]
  },
  {
   "cell_type": "code",
   "execution_count": 8,
   "metadata": {},
   "outputs": [],
   "source": [
    "import json\n",
    "import re\n",
    "\n",
    "\n",
    "file_path = \".\\\\output\\\\vietnamese_label\\\\annotations.json\"\n",
    "output_path = \".\\\\output\\\\vietnamese_label\\\\annotations_cleaned.json\"\n",
    "\n",
    "file2_path = \".\\\\output\\\\vietnamese_label\\\\annotations_3.json\"\n",
    "output2_path = \".\\\\output\\\\vietnamese_label\\\\annotations_3_cleaned.json\"\n",
    "\n",
    "words_to_remove = [\n",
    "    \"COLLEGE LIDIARY\",\n",
    "    \"MANU LLEGE!!!!UARY\",\n",
    "    \"MEUL LIIVINE\",\n",
    "    \"COLLLULLIDIVAN\",\n",
    "    \"COLLEGE LIDKARY\",\n",
    "    \"ten Oula Ngi\",\n",
    "    \"Ouba Nau\",\n",
    "    \"Outa Na\",\n",
    "    \"Aa Nair\",\n",
    "    \"The Chung n\",\n",
    "    \"Chond Out Non\",\n",
    "    \"W Chung Quốa Não\",\n",
    "    \"Tứ Chung Quốc Ngữ\",\n",
    "    \"Tứ Chung Quốc Nơi\",\n",
    "    \"Tứ Chung Cu Nơi\",\n",
    "    \"Tứ Chung Quốc Ngũ\",\n",
    "    \"Tử Chung Quốc Ngữ\",\n",
    "    \"Tú Chung Quốc Ngữ\",\n",
    "    \"ý Chung Quốc Ngữ\",\n",
    "    \"Chung Quốc Ngữ\",\n",
    "    \"Tử Nguyên Yếu Lý Phần I\",\n",
    "    \"Tứ Nguyên Yếu Lý Phần\",\n",
    "    \"ཏེ .\",\n",
    "    \"י I I\",\n",
    "    \"LIARIÐ G. PQ WBG \",\n",
    "    \"HARVAR % DR RAGI & BERARY \",\n",
    "    \"I I : \",\n",
    "    \"PARVA&R_ALGI B BRARY\",\n",
    "    \"י I PARVA . < B BRARY : \"\n",
    "]\n",
    "\n",
    "\n",
    "def clean_data(filepath, outputpath):\n",
    "    with open(filepath, \"r\", encoding=\"utf-8\") as file:\n",
    "        data = json.load(file)\n",
    "\n",
    "\n",
    "    cleaned_data = {}\n",
    "    for key, value in data.items():\n",
    "        # Xóa các từ cụ thể\n",
    "        \n",
    "        # Xóa toàn bộ dấu ngoặc tròn\n",
    "        value = re.sub(r\"[()]\", \"\", value)\n",
    "\n",
    "        value = re.sub(r\"(?<=[\\wÀ-ỹ])-+(?=[\\wÀ-ỹ])\", \" \", value)\n",
    "        # Xóa dấu gạch ngang\n",
    "        value = re.sub(r\"-\", \"\", value)\n",
    "        # Xóa các số\n",
    "        value = re.sub(r\"\\d+\", \"\", value)\n",
    "        # Xóa khoảng trắng thừa\n",
    "        value = re.sub(r\"\\s+\", \" \", value).strip()\n",
    "        \n",
    "        for word in words_to_remove:\n",
    "            value = value.replace(word, \"\")\n",
    "\n",
    "        # Lưu kết quả vào cleaned_data\n",
    "        cleaned_data[key] = value\n",
    "\n",
    "    # Ghi dữ liệu đã làm sạch vào file mới\n",
    "    with open(outputpath, \"w\", encoding=\"utf-8\") as file:\n",
    "        json.dump(cleaned_data, file, ensure_ascii=False, indent=4)\n",
    "\n",
    "    print(f\"Dữ liệu đã làm sạch được lưu tại: {outputpath}\")\n"
   ]
  },
  {
   "cell_type": "code",
   "execution_count": 9,
   "metadata": {},
   "outputs": [
    {
     "name": "stdout",
     "output_type": "stream",
     "text": [
      "Dữ liệu đã làm sạch được lưu tại: .\\output\\vietnamese_label\\annotations_3_cleaned.json\n"
     ]
    }
   ],
   "source": [
    "clean_data(file2_path, output2_path)"
   ]
  }
 ],
 "metadata": {
  "kernelspec": {
   "display_name": "base",
   "language": "python",
   "name": "python3"
  },
  "language_info": {
   "codemirror_mode": {
    "name": "ipython",
    "version": 3
   },
   "file_extension": ".py",
   "mimetype": "text/x-python",
   "name": "python",
   "nbconvert_exporter": "python",
   "pygments_lexer": "ipython3",
   "version": "3.11.7"
  }
 },
 "nbformat": 4,
 "nbformat_minor": 2
}
