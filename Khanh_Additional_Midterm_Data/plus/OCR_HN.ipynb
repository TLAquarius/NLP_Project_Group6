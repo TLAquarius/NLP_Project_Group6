{
 "cells": [
  {
   "cell_type": "code",
   "execution_count": 1,
   "metadata": {},
   "outputs": [],
   "source": [
    "import os\n",
    "import requests\n",
    "import json\n",
    "from PIL import Image"
   ]
  },
  {
   "cell_type": "code",
   "execution_count": 2,
   "metadata": {},
   "outputs": [],
   "source": [
    "image_path = \".\\\\output\\\\Khanh_HN_pages_2\\\\\"\n",
    "image_name = \"Khanh_TCQN_HN_page_\"\n",
    "image_name_2 = \"Khanh_TNYL_P2_HN_page\"\n",
    "output_path = \".\\\\output\\\\OCR_HN\\\\\"\n",
    "output_name_1 = \"ocr_\"\n",
    "output_name_2 = \"ocr_3_\"\n",
    "upload_url = r\"https://tools.clc.hcmus.edu.vn/api/web/clc-sinonom/image-upload\"\n",
    "ocr_url = r\"https://tools.clc.hcmus.edu.vn/api/web/clc-sinonom/image-ocr\""
   ]
  },
  {
   "cell_type": "code",
   "execution_count": 3,
   "metadata": {},
   "outputs": [],
   "source": [
    "headers = {\"User-Agent\":\"test 123\"}"
   ]
  },
  {
   "cell_type": "code",
   "execution_count": 6,
   "metadata": {},
   "outputs": [],
   "source": [
    "def ocr_image_with_clc_api(image_name, index, output_name):\n",
    "    with open(os.path.join(image_path, image_name), \"rb\") as image_file:\n",
    "        files = {\n",
    "            \"image_file\": image_file\n",
    "        }\n",
    "        upload_response = requests.post(upload_url, files=files,headers=headers)\n",
    "    upload_response=upload_response.json()\n",
    "    print(upload_response)\n",
    "    body = {\n",
    "        \"file_name\": upload_response.get('data').get('file_name'),\n",
    "        \"ocr_id\": 1\n",
    "    }\n",
    "    \n",
    "    ocr_response = requests.post(ocr_url, json=body,headers=headers)\n",
    "    if ocr_response.status_code == 200:\n",
    "        try:\n",
    "            result = ocr_response.json()\n",
    "        except ValueError:\n",
    "            print(f\"Response từ server không hợp lệ cho ảnh {image_name}.\")\n",
    "            return\n",
    "\n",
    "        if result.get(\"is_success\"):\n",
    "            print(f\"OCR ảnh {image_name} thành công!\")\n",
    "            transcription = result[\"data\"].get(\"result_ocr_text\", [])\n",
    "            points = result[\"data\"].get(\"result_bbox\", [])\n",
    "\n",
    "            listOfbox = [{\"transcription\": transcription[i], \"points\": points[i]} for i in range(len(points))]\n",
    "            image = Image.open(os.path.join(image_path, image_name))\n",
    "            data = {\n",
    "                \"image_name\": image_name,\n",
    "                \"OCR_Result\": listOfbox,\n",
    "                \"width_image\": image.size[0],\n",
    "                \"height_image\": image.size[1],\n",
    "            }\n",
    "\n",
    "            if not os.path.exists(output_path):\n",
    "                os.makedirs(output_path)\n",
    "\n",
    "            Output_Filename = f\"{output_name}{index}.json\"\n",
    "            with open(os.path.join(output_path, Output_Filename), \"w\", encoding=\"utf-8\") as f:\n",
    "                json.dump(data, f, ensure_ascii=False, indent=4)\n",
    "\n",
    "        else:\n",
    "            print(f\"Lỗi OCR ảnh {index}: {result['code']}, {result.get('message', 'Không có thông tin lỗi')}\")\n",
    "    else:\n",
    "        print(f\"Request thất bại với mã trạng thái: {ocr_response.get('code')}\")\n",
    "        print(ocr_response.get('message'))"
   ]
  },
  {
   "cell_type": "code",
   "execution_count": 5,
   "metadata": {},
   "outputs": [],
   "source": [
    "start = 1\n",
    "end = 22"
   ]
  },
  {
   "cell_type": "code",
   "execution_count": 7,
   "metadata": {},
   "outputs": [
    {
     "name": "stdout",
     "output_type": "stream",
     "text": [
      "{'is_success': True, 'code': '000000', 'message': None, 'data': {'file_name': 'temp628ffd1148e94ac8a9e22e1c8eedb5f2.png'}}\n",
      "OCR ảnh Khanh_TNYL_P2_HN_page001.png thành công!\n",
      "{'is_success': True, 'code': '000000', 'message': None, 'data': {'file_name': 'temp70c55c66f8a74cc6ac0f9c74d444834f.png'}}\n",
      "OCR ảnh Khanh_TNYL_P2_HN_page002.png thành công!\n",
      "{'is_success': True, 'code': '000000', 'message': None, 'data': {'file_name': 'temp0b8aca0f6d4445ae83297cff18f44b80.png'}}\n",
      "OCR ảnh Khanh_TNYL_P2_HN_page003.png thành công!\n",
      "{'is_success': True, 'code': '000000', 'message': None, 'data': {'file_name': 'tempa1c61a8838bd47959601df8a92366d19.png'}}\n",
      "OCR ảnh Khanh_TNYL_P2_HN_page004.png thành công!\n",
      "{'is_success': True, 'code': '000000', 'message': None, 'data': {'file_name': 'tempe704ba61a77c43eab9c7d3949e38fc80.png'}}\n",
      "OCR ảnh Khanh_TNYL_P2_HN_page005.png thành công!\n",
      "{'is_success': True, 'code': '000000', 'message': None, 'data': {'file_name': 'temp63259ca33cc64f1680a81b6172564227.png'}}\n",
      "OCR ảnh Khanh_TNYL_P2_HN_page006.png thành công!\n",
      "{'is_success': True, 'code': '000000', 'message': None, 'data': {'file_name': 'tempb986f4b6c8354964911f544bac7fe0c2.png'}}\n",
      "OCR ảnh Khanh_TNYL_P2_HN_page007.png thành công!\n",
      "{'is_success': True, 'code': '000000', 'message': None, 'data': {'file_name': 'tempde20748226c94b298d8547ff3c55075e.png'}}\n",
      "OCR ảnh Khanh_TNYL_P2_HN_page008.png thành công!\n",
      "{'is_success': True, 'code': '000000', 'message': None, 'data': {'file_name': 'tempb0adae07138843039e56b8c57d7eb460.png'}}\n",
      "OCR ảnh Khanh_TNYL_P2_HN_page009.png thành công!\n",
      "{'is_success': True, 'code': '000000', 'message': None, 'data': {'file_name': 'temp243e5f43344b47babf2c1d27c0c5a063.png'}}\n",
      "OCR ảnh Khanh_TNYL_P2_HN_page010.png thành công!\n",
      "{'is_success': True, 'code': '000000', 'message': None, 'data': {'file_name': 'temp9a32749ac095483ea90ddca1144704c3.png'}}\n",
      "OCR ảnh Khanh_TNYL_P2_HN_page011.png thành công!\n",
      "{'is_success': True, 'code': '000000', 'message': None, 'data': {'file_name': 'temp13508c6c6d3d4c158ef86257e816fe73.png'}}\n",
      "OCR ảnh Khanh_TNYL_P2_HN_page012.png thành công!\n",
      "{'is_success': True, 'code': '000000', 'message': None, 'data': {'file_name': 'temp80682ef86a2a454abd3692ae55b178c8.png'}}\n",
      "OCR ảnh Khanh_TNYL_P2_HN_page013.png thành công!\n",
      "{'is_success': True, 'code': '000000', 'message': None, 'data': {'file_name': 'temp6a601313d9554343828b125aa60b7c6a.png'}}\n",
      "OCR ảnh Khanh_TNYL_P2_HN_page014.png thành công!\n",
      "{'is_success': True, 'code': '000000', 'message': None, 'data': {'file_name': 'temp83a7a94fcf684c07905223d3c41506e1.png'}}\n",
      "OCR ảnh Khanh_TNYL_P2_HN_page015.png thành công!\n",
      "{'is_success': True, 'code': '000000', 'message': None, 'data': {'file_name': 'tempbdd3ea37001d43b6b8e4386a3f5997cf.png'}}\n",
      "OCR ảnh Khanh_TNYL_P2_HN_page016.png thành công!\n",
      "{'is_success': True, 'code': '000000', 'message': None, 'data': {'file_name': 'tempea814316476747c5a6662761046a43b7.png'}}\n",
      "OCR ảnh Khanh_TNYL_P2_HN_page017.png thành công!\n",
      "{'is_success': True, 'code': '000000', 'message': None, 'data': {'file_name': 'temp92ef019f47464fc986077f416a63a68c.png'}}\n",
      "OCR ảnh Khanh_TNYL_P2_HN_page018.png thành công!\n",
      "{'is_success': True, 'code': '000000', 'message': None, 'data': {'file_name': 'temp912b333accdc45d1b9c40588d0f1d96a.png'}}\n",
      "OCR ảnh Khanh_TNYL_P2_HN_page019.png thành công!\n",
      "{'is_success': True, 'code': '000000', 'message': None, 'data': {'file_name': 'temped7b1ac50f52431ea6320f42876823ab.png'}}\n",
      "OCR ảnh Khanh_TNYL_P2_HN_page020.png thành công!\n",
      "{'is_success': True, 'code': '000000', 'message': None, 'data': {'file_name': 'tempb29d38f3bf754522804c8a14d44b5890.png'}}\n",
      "OCR ảnh Khanh_TNYL_P2_HN_page021.png thành công!\n",
      "{'is_success': True, 'code': '000000', 'message': None, 'data': {'file_name': 'temp38afbe190ccc4fa1a47e0bcdb04ba653.png'}}\n",
      "OCR ảnh Khanh_TNYL_P2_HN_page022.png thành công!\n"
     ]
    }
   ],
   "source": [
    "for index in range(start, end + 1):\n",
    "    image_name = image_name_2+ str(index).zfill(3) + \".png\"\n",
    "    ocr_image_with_clc_api(image_name, index, output_name_2)"
   ]
  },
  {
   "cell_type": "markdown",
   "metadata": {},
   "source": [
    "# **Clean data**"
   ]
  },
  {
   "cell_type": "code",
   "execution_count": 7,
   "metadata": {},
   "outputs": [],
   "source": [
    "def cleanup_OCR_File1(data_path, image_name, output_path):\n",
    "    with open(os.path.join(data_path, image_name), \"r\", encoding=\"utf-8\") as file:\n",
    "        data = json.load(file)\n",
    "    \n",
    "    OCR_result_list = data['OCR_Result']\n",
    "    item = OCR_result_list[0]\n",
    "    while(len(item['transcription']) == 1):\n",
    "        del OCR_result_list[0]\n",
    "        item = OCR_result_list[0]\n",
    "    if(len(OCR_result_list) < 9):\n",
    "        print(f\"file {image_name} deo on roi sep oi\")\n",
    "    data['OCR_Result'] = OCR_result_list\n",
    "\n",
    "    Output_Filename = f\"ocr_3_Cleaned_{index}.json\"\n",
    "    with open(os.path.join(output_path, Output_Filename), \"w\", encoding=\"utf-8\") as f:\n",
    "        json.dump(data, f, ensure_ascii=False, indent=4)"
   ]
  },
  {
   "cell_type": "code",
   "execution_count": 8,
   "metadata": {},
   "outputs": [],
   "source": [
    "for index in range(1, 22 + 1):\n",
    "    # if(index == 49 or index == 60):\n",
    "    #     continue\n",
    "    image_name = \"ocr_3_\" + str(index) + \".json\"\n",
    "    cleanup_OCR_File1(\".\\\\output\\\\OCR_HN\\\\\", image_name, \".\\\\output\\\\OCR_Cleaned_HN\\\\\")"
   ]
  },
  {
   "cell_type": "code",
   "execution_count": 15,
   "metadata": {},
   "outputs": [],
   "source": [
    "def cleanup_OCR_File2(data_path, image_name, output_path):\n",
    "    with open(os.path.join(data_path, image_name), \"r\", encoding=\"utf-8\") as file:\n",
    "        data = json.load(file)\n",
    "    \n",
    "    OCR_result_list = data['OCR_Result']\n",
    "    item = OCR_result_list[0]\n",
    "    while(len(item['transcription']) <= 2):\n",
    "        del OCR_result_list[0]\n",
    "        item = OCR_result_list[0]\n",
    "    if(len(OCR_result_list) < 9):\n",
    "        print(f\"file {image_name} deo on roi sep oi\")\n",
    "    data['OCR_Result'] = OCR_result_list\n",
    "\n",
    "    Output_Filename = f\"ocr_2_Cleaned_{index}.json\"\n",
    "    with open(os.path.join(output_path, Output_Filename), \"w\", encoding=\"utf-8\") as f:\n",
    "        json.dump(data, f, ensure_ascii=False, indent=4)"
   ]
  },
  {
   "cell_type": "code",
   "execution_count": 16,
   "metadata": {},
   "outputs": [],
   "source": [
    "for index in range(1, 25 + 1):\n",
    "    image_name = \"ocr_2_\" + str(index) + \".json\"\n",
    "    cleanup_OCR_File2(\".\\\\output\\\\OCR_HN\\\\\", image_name, \".\\\\output\\\\OCR_Cleaned_HN\\\\\")"
   ]
  }
 ],
 "metadata": {
  "kernelspec": {
   "display_name": "base",
   "language": "python",
   "name": "python3"
  },
  "language_info": {
   "codemirror_mode": {
    "name": "ipython",
    "version": 3
   },
   "file_extension": ".py",
   "mimetype": "text/x-python",
   "name": "python",
   "nbconvert_exporter": "python",
   "pygments_lexer": "ipython3",
   "version": "3.11.7"
  }
 },
 "nbformat": 4,
 "nbformat_minor": 2
}
