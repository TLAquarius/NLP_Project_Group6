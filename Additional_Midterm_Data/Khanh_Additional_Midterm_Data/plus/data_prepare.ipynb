{
 "cells": [
  {
   "cell_type": "code",
   "execution_count": 3,
   "metadata": {},
   "outputs": [],
   "source": [
    "import numpy as np\n",
    "import re\n",
    "import fitz \n",
    "import os\n",
    "from PIL import Image"
   ]
  },
  {
   "cell_type": "markdown",
   "metadata": {},
   "source": [
    "# **Get image from pdf**"
   ]
  },
  {
   "cell_type": "code",
   "execution_count": 4,
   "metadata": {},
   "outputs": [],
   "source": [
    "# constants variables\n",
    "data_path = r\".\\\\raw_data\\\\Prj_06_CLC_Hoang_Sách Nôm công giáo 1995 - 110 - Tu Nguyen Yeu Ly - Phan II.pdf\"\n",
    "data_HN_output_path = r\".\\\\output\\\\Khanh_HN_raw_data_2\"\n",
    "data_QN_output_path = r\".\\\\output\\\\Khanh_QN_raw_data_2\""
   ]
  },
  {
   "cell_type": "code",
   "execution_count": 33,
   "metadata": {},
   "outputs": [],
   "source": [
    "start_HN_page = 202\n",
    "end_HN_page = 212\n",
    "\n",
    "start_QN_page = 32\n",
    "end_QN_page = 42"
   ]
  },
  {
   "cell_type": "code",
   "execution_count": 31,
   "metadata": {},
   "outputs": [],
   "source": [
    "def extract_QN_images_from_pdf(pdf_path, output_folder, start_page, end_page):\n",
    "    pdf_document = fitz.open(pdf_path)\n",
    "\n",
    "\n",
    "    if not os.path.exists(output_folder):\n",
    "        os.makedirs(output_folder)\n",
    "    index = 1\n",
    "    for page_number in range(start_page, end_page + 1):\n",
    "        page = pdf_document[page_number]\n",
    "        images = page.get_images(full=True)  \n",
    "\n",
    "        for img_index, img in enumerate(images):\n",
    "            xref = img[0]  \n",
    "            base_image = pdf_document.extract_image(xref)\n",
    "            image_bytes = base_image[\"image\"]\n",
    "            image_ext = base_image[\"ext\"]  \n",
    "\n",
    "            image_filename = f\"{index}.{image_ext}\"\n",
    "            index+=1\n",
    "            image_path = os.path.join(output_folder, image_filename)\n",
    "            \n",
    "            with open(image_path, \"wb\") as img_file:\n",
    "                img_file.write(image_bytes)\n",
    "\n",
    "    print(f\"Ảnh đã được trích xuất và lưu tại {output_folder}\")\n"
   ]
  },
  {
   "cell_type": "code",
   "execution_count": 14,
   "metadata": {},
   "outputs": [],
   "source": [
    "def extract_HN_images_from_pdf(pdf_path, output_folder, start_page, end_page):\n",
    "    pdf_document = fitz.open(pdf_path)\n",
    "\n",
    "    if not os.path.exists(output_folder):\n",
    "        os.makedirs(output_folder)\n",
    "    index = 1\n",
    "    for page_number in range(end_page, start_page - 1, -1):\n",
    "        page = pdf_document[page_number]\n",
    "        images = page.get_images(full=True)  \n",
    "\n",
    "        for img_index, img in enumerate(images):\n",
    "            xref = img[0]  \n",
    "            base_image = pdf_document.extract_image(xref)\n",
    "            image_bytes = base_image[\"image\"]\n",
    "            image_ext = base_image[\"ext\"]  \n",
    "\n",
    "            image_filename = f\"{index}.{image_ext}\"\n",
    "            index+=1\n",
    "            image_path = os.path.join(output_folder, image_filename)\n",
    "            \n",
    "            with open(image_path, \"wb\") as img_file:\n",
    "                img_file.write(image_bytes)\n",
    "\n",
    "    print(f\"Ảnh đã được trích xuất và lưu tại {output_folder}\")"
   ]
  },
  {
   "cell_type": "code",
   "execution_count": 34,
   "metadata": {},
   "outputs": [
    {
     "name": "stdout",
     "output_type": "stream",
     "text": [
      "Ảnh đã được trích xuất và lưu tại .\\\\output\\\\Khanh_HN_raw_data_2\n",
      "Ảnh đã được trích xuất và lưu tại .\\\\output\\\\Khanh_QN_raw_data_2\n"
     ]
    }
   ],
   "source": [
    "extract_HN_images_from_pdf(data_path, data_HN_output_path, start_HN_page, end_HN_page)\n",
    "extract_QN_images_from_pdf(data_path, data_QN_output_path, start_QN_page, end_QN_page)"
   ]
  },
  {
   "cell_type": "markdown",
   "metadata": {},
   "source": [
    "# **Change Image**"
   ]
  },
  {
   "cell_type": "code",
   "execution_count": 5,
   "metadata": {},
   "outputs": [],
   "source": [
    "raw_image_HN_folder_path = r\".\\\\output\\\\Khanh_HN_raw_data_2\"\n",
    "raw_image_QN_folder_path = r\".\\\\output\\\\Khanh_QN_raw_data_2\"\n",
    "Page_image_HN_output_path = r\".\\\\output\\\\Khanh_HN_pages_2\"\n",
    "Page_image_QN_output_path = r\".\\\\output\\\\Khanh_QN_pages_2\"\n",
    "imageHN_name = r\"Khanh_TNYL_P2_HN_page\"\n",
    "imageQN_name = r\"Khanh_TNYL_P2_QN_page_\""
   ]
  },
  {
   "cell_type": "code",
   "execution_count": 7,
   "metadata": {},
   "outputs": [],
   "source": [
    "unrespected_image_HN_index = {1 : False, 38 : False, 39 : False, 170 : False}\n",
    "unrespected_image_QN_index = {30 : False, 31 : False}\n",
    "\n",
    "unrespected_image_HN_index = {}\n",
    "unrespected_image_QN_index = {}\n"
   ]
  },
  {
   "cell_type": "code",
   "execution_count": 1,
   "metadata": {},
   "outputs": [],
   "source": [
    "def count_files_in_folder(folder_path, extensions=('.png', '.jpg', '.jpeg')):\n",
    "    return len([f for f in os.listdir(folder_path) if f.lower().endswith(extensions)])\n",
    "\n",
    "def Data_process(raw_image_folder_path, Page_image_output_path, image_name, IsHN=True):\n",
    "    if not os.path.exists(Page_image_output_path):\n",
    "        os.makedirs(Page_image_output_path)\n",
    "\n",
    "    index = 1\n",
    "    count_image = count_files_in_folder(raw_image_folder_path)\n",
    "    count = 0\n",
    "    for i in range(1, count_image + 1):\n",
    "        _, extension = os.path.splitext(f'{i}.png')\n",
    "        file_path = os.path.join(raw_image_folder_path, f'{i}.png')\n",
    "\n",
    "        with Image.open(file_path) as image:\n",
    "                # Xoay ảnh 90 độ\n",
    "\n",
    "            # image = image.rotate(90, expand=True)\n",
    "            # image.save(file_path)\n",
    "            width, height = image.size\n",
    "\n",
    "            # Cắt ảnh ban đầu\n",
    "            if IsHN:\n",
    "                croped_image = image.crop((450, 150, width - 300, height))\n",
    "                mid_x = (croped_image.width // 2) - 50\n",
    "                left_half = croped_image.crop((0, 0, mid_x, croped_image.height))\n",
    "                right_half = croped_image.crop((mid_x, 0, croped_image.width , croped_image.height))\n",
    "            else:\n",
    "                croped_image = image.crop((200, 150, width , height - 420))\n",
    "                mid_x = (croped_image.width // 2) - 20\n",
    "                left_half = croped_image.crop((0, 0, mid_x, croped_image.height))\n",
    "                right_half = croped_image.crop((mid_x, 0, croped_image.width - 100, croped_image.height))\n",
    "\n",
    "            \n",
    "\n",
    "            # Lưu 2 phần ảnh\n",
    "            if(IsHN):\n",
    "                flag = True\n",
    "                for item in unrespected_image_HN_index.keys():\n",
    "                    if(index == item - count and unrespected_image_HN_index[item] == False):\n",
    "                        unrespected_image_HN_index[item] = True\n",
    "                        count += 1\n",
    "                        flag = False\n",
    "                        print(f\"khong in {index}\")\n",
    "                        break\n",
    "                if(flag):\n",
    "                    right_image_path = os.path.join(Page_image_output_path, f\"{image_name}{str(index).zfill(3)}{extension}\")\n",
    "                    index += 1\n",
    "                    right_half.save(right_image_path)\n",
    "\n",
    "                flag = True\n",
    "                for item in unrespected_image_HN_index.keys():\n",
    "                    if(index == item - count and unrespected_image_HN_index[item] == False):\n",
    "                        unrespected_image_HN_index[item] = True\n",
    "                        print(f\"khong in {index}\")\n",
    "                        count += 1\n",
    "                        flag = False\n",
    "                        break\n",
    "                if(flag):\n",
    "                    left_image_path = os.path.join(Page_image_output_path, f\"{image_name}{str(index).zfill(3)}{extension}\")\n",
    "                    index += 1\n",
    "                    left_half.save(left_image_path)\n",
    "            else:\n",
    "                flag = True\n",
    "                for item in unrespected_image_QN_index.keys():\n",
    "                    if(index == item - count and unrespected_image_QN_index[item] == False):\n",
    "                        unrespected_image_HN_index[item] = True\n",
    "                        count += 1\n",
    "                        flag = False\n",
    "                        break\n",
    "                if(flag):\n",
    "                    left_image_path = os.path.join(Page_image_output_path, f\"{image_name}{index}{extension}\")\n",
    "                    index += 1\n",
    "                    left_half.save(left_image_path)\n",
    "\n",
    "                flag = True\n",
    "                for item in unrespected_image_QN_index.keys():\n",
    "                    if(index == item - count and unrespected_image_QN_index[item] == False):\n",
    "                        unrespected_image_HN_index[item] = True\n",
    "                        count += 1\n",
    "                        flag = False\n",
    "                        break\n",
    "                if(flag):\n",
    "                    right_image_path = os.path.join(Page_image_output_path, f\"{image_name}{index}{extension}\")\n",
    "                    index += 1\n",
    "                    right_half.save(right_image_path)\n",
    "\n",
    "    print(\"Done\")\n"
   ]
  },
  {
   "cell_type": "code",
   "execution_count": 8,
   "metadata": {},
   "outputs": [
    {
     "name": "stdout",
     "output_type": "stream",
     "text": [
      "Done\n"
     ]
    }
   ],
   "source": [
    "Data_process(raw_image_HN_folder_path, Page_image_HN_output_path, imageHN_name)\n",
    "# Data_process(raw_image_QN_folder_path, Page_image_QN_output_path, imageQN_name, IsHN=False)"
   ]
  }
 ],
 "metadata": {
  "kernelspec": {
   "display_name": "base",
   "language": "python",
   "name": "python3"
  },
  "language_info": {
   "codemirror_mode": {
    "name": "ipython",
    "version": 3
   },
   "file_extension": ".py",
   "mimetype": "text/x-python",
   "name": "python",
   "nbconvert_exporter": "python",
   "pygments_lexer": "ipython3",
   "version": "3.11.7"
  }
 },
 "nbformat": 4,
 "nbformat_minor": 2
}
